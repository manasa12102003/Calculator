{
  "nbformat": 4,
  "nbformat_minor": 0,
  "metadata": {
    "colab": {
      "provenance": [],
      "authorship_tag": "ABX9TyMKa0aiELlEbBKXkIrl1xOj",
      "include_colab_link": true
    },
    "kernelspec": {
      "name": "python3",
      "display_name": "Python 3"
    },
    "language_info": {
      "name": "python"
    }
  },
  "cells": [
    {
      "cell_type": "markdown",
      "metadata": {
        "id": "view-in-github",
        "colab_type": "text"
      },
      "source": [
        "<a href=\"https://colab.research.google.com/github/manasa12102003/Calculator/blob/main/Random_Password_Generator.ipynb\" target=\"_parent\"><img src=\"https://colab.research.google.com/assets/colab-badge.svg\" alt=\"Open In Colab\"/></a>"
      ]
    },
    {
      "cell_type": "markdown",
      "source": [
        "**TechnoHacks Internship Task-9**"
      ],
      "metadata": {
        "id": "d9Yvn0ywlrv4"
      }
    },
    {
      "cell_type": "markdown",
      "source": [
        "**Name : Kuraku Manasa**\n",
        "\n",
        "**Domain : Python Development**\n",
        "\n"
      ],
      "metadata": {
        "id": "rgXQcmkMnW-I"
      }
    },
    {
      "cell_type": "markdown",
      "source": [
        "**Project Name : Random Password Generator**"
      ],
      "metadata": {
        "id": "XAOMTHNcmVHk"
      }
    },
    {
      "cell_type": "markdown",
      "source": [
        "Create a program that generates a random\n",
        "password of a user-defined length."
      ],
      "metadata": {
        "id": "FGPTgMzupiKC"
      }
    },
    {
      "cell_type": "markdown",
      "source": [
        "**Importing Modules**"
      ],
      "metadata": {
        "id": "8mf8JhXKqex-"
      }
    },
    {
      "cell_type": "code",
      "source": [
        "import random\n",
        "import string"
      ],
      "metadata": {
        "id": "w70vT-Mao8Mv"
      },
      "execution_count": null,
      "outputs": []
    },
    {
      "cell_type": "markdown",
      "source": [
        "**Python code**"
      ],
      "metadata": {
        "id": "ZSNhvUtkqlAc"
      }
    },
    {
      "cell_type": "code",
      "execution_count": null,
      "metadata": {
        "colab": {
          "base_uri": "https://localhost:8080/"
        },
        "id": "pb26EiUko1oy",
        "outputId": "2504a984-b7fa-43d2-a6d2-f8e4a03587a0"
      },
      "outputs": [
        {
          "output_type": "stream",
          "name": "stdout",
          "text": [
            "Random Password Generator\n",
            "-------------------------\n",
            "Enter the desired password length: 12\n",
            "Generated Password: uc=2X'6xv4j0\n"
          ]
        }
      ],
      "source": [
        "def generate_random_password(length):\n",
        "    characters = string.ascii_letters + string.digits + string.punctuation\n",
        "    password = ''.join(random.choice(characters) for _ in range(length))\n",
        "    return password\n",
        "\n",
        "def main():\n",
        "    print(\"Random Password Generator\")\n",
        "    print(\"-------------------------\")\n",
        "\n",
        "    while True:\n",
        "        try:\n",
        "            length = int(input(\"Enter the desired password length: \"))\n",
        "            if length <= 0:\n",
        "                raise ValueError\n",
        "            break\n",
        "        except ValueError:\n",
        "            print(\"Invalid input. Please enter a positive integer for the password length.\\n\")\n",
        "\n",
        "    password = generate_random_password(length)\n",
        "    print(f\"Generated Password: {password}\")\n",
        "\n",
        "if __name__ == \"__main__\":\n",
        "    main()\n"
      ]
    }
  ]
}