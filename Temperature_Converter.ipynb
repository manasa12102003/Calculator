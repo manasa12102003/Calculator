{
  "nbformat": 4,
  "nbformat_minor": 0,
  "metadata": {
    "colab": {
      "provenance": [],
      "authorship_tag": "ABX9TyNPxMdjyAViOdWU4qwsgD3E",
      "include_colab_link": true
    },
    "kernelspec": {
      "name": "python3",
      "display_name": "Python 3"
    },
    "language_info": {
      "name": "python"
    }
  },
  "cells": [
    {
      "cell_type": "markdown",
      "metadata": {
        "id": "view-in-github",
        "colab_type": "text"
      },
      "source": [
        "<a href=\"https://colab.research.google.com/github/manasa12102003/Calculator/blob/main/Temperature_Converter.ipynb\" target=\"_parent\"><img src=\"https://colab.research.google.com/assets/colab-badge.svg\" alt=\"Open In Colab\"/></a>"
      ]
    },
    {
      "cell_type": "markdown",
      "source": [
        "**TechnoHacks Internship Task-5**"
      ],
      "metadata": {
        "id": "d9Yvn0ywlrv4"
      }
    },
    {
      "cell_type": "markdown",
      "source": [
        "**Name : Kuraku Manasa**\n",
        "\n",
        "**Domain : Python Development**\n",
        "\n"
      ],
      "metadata": {
        "id": "rgXQcmkMnW-I"
      }
    },
    {
      "cell_type": "markdown",
      "source": [
        "**Project Name : Temperature Converter**"
      ],
      "metadata": {
        "id": "XAOMTHNcmVHk"
      }
    },
    {
      "cell_type": "markdown",
      "source": [
        "Create a program that allows the user to\n",
        "convert temperatures between Fahrenheit and\n",
        "Celsius."
      ],
      "metadata": {
        "id": "msiAejOdpn-M"
      }
    },
    {
      "cell_type": "code",
      "source": [
        "def celsius_to_fahrenheit(celsius):\n",
        "    return (celsius * 9/5) + 32\n",
        "\n",
        "def fahrenheit_to_celsius(fahrenheit):\n",
        "    return (fahrenheit - 32) * 5/9\n",
        "\n",
        "def main():\n",
        "    print(\"Temperature Converter\")\n",
        "    print(\"---------------------\")\n",
        "\n",
        "    while True:\n",
        "        print(\"Select option:\")\n",
        "        print(\"1. Celsius to Fahrenheit\")\n",
        "        print(\"2. Fahrenheit to Celsius\")\n",
        "        print(\"3. Exit\")\n",
        "\n",
        "        choice = input(\"\\n\\nEnter choice (1/2/3): \")\n",
        "\n",
        "        if choice == '1':\n",
        "            celsius = float(input(\"Enter temperature in Celsius: \"))\n",
        "            fahrenheit = celsius_to_fahrenheit(celsius)\n",
        "            print(f\"{celsius:.2f} Celsius = {fahrenheit:.2f} Fahrenheit\\n\")\n",
        "        elif choice == '2':\n",
        "            fahrenheit = float(input(\"Enter temperature in Fahrenheit: \"))\n",
        "            celsius = fahrenheit_to_celsius(fahrenheit)\n",
        "            print(f\"{fahrenheit:.2f} Fahrenheit = {celsius:.2f} Celsius\\n\")\n",
        "        elif choice == '3':\n",
        "            print(\"Exiting the program.\")\n",
        "            break\n",
        "        else:\n",
        "            print(\"Invalid input. Please try again.\\n\")\n",
        "\n",
        "if __name__ == \"__main__\":\n",
        "    main()\n"
      ],
      "metadata": {
        "colab": {
          "base_uri": "https://localhost:8080/"
        },
        "id": "nucUlE_ioOcy",
        "outputId": "02b62faa-e027-479e-9437-306994a29064"
      },
      "execution_count": null,
      "outputs": [
        {
          "output_type": "stream",
          "name": "stdout",
          "text": [
            "Temperature Converter\n",
            "---------------------\n",
            "Select option:\n",
            "1. Celsius to Fahrenheit\n",
            "2. Fahrenheit to Celsius\n",
            "3. Exit\n",
            "\n",
            "\n",
            "Enter choice (1/2/3): 1\n",
            "Enter temperature in Celsius: 98.6\n",
            "98.60 Celsius = 209.48 Fahrenheit\n",
            "\n",
            "Select option:\n",
            "1. Celsius to Fahrenheit\n",
            "2. Fahrenheit to Celsius\n",
            "3. Exit\n",
            "\n",
            "\n",
            "Enter choice (1/2/3): 2\n",
            "Enter temperature in Fahrenheit: 209.48\n",
            "209.48 Fahrenheit = 98.60 Celsius\n",
            "\n",
            "Select option:\n",
            "1. Celsius to Fahrenheit\n",
            "2. Fahrenheit to Celsius\n",
            "3. Exit\n",
            "\n",
            "\n",
            "Enter choice (1/2/3): 2\n",
            "Enter temperature in Fahrenheit: 233\n",
            "233.00 Fahrenheit = 111.67 Celsius\n",
            "\n",
            "Select option:\n",
            "1. Celsius to Fahrenheit\n",
            "2. Fahrenheit to Celsius\n",
            "3. Exit\n",
            "\n",
            "\n",
            "Enter choice (1/2/3): 1\n",
            "Enter temperature in Celsius: 108\n",
            "108.00 Celsius = 226.40 Fahrenheit\n",
            "\n",
            "Select option:\n",
            "1. Celsius to Fahrenheit\n",
            "2. Fahrenheit to Celsius\n",
            "3. Exit\n",
            "\n",
            "\n",
            "Enter choice (1/2/3): 2\n",
            "Enter temperature in Fahrenheit: 345\n",
            "345.00 Fahrenheit = 173.89 Celsius\n",
            "\n",
            "Select option:\n",
            "1. Celsius to Fahrenheit\n",
            "2. Fahrenheit to Celsius\n",
            "3. Exit\n",
            "\n",
            "\n",
            "Enter choice (1/2/3): 3\n",
            "Exiting the program.\n"
          ]
        }
      ]
    }
  ]
}