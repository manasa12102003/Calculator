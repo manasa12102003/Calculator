{
  "nbformat": 4,
  "nbformat_minor": 0,
  "metadata": {
    "colab": {
      "provenance": [],
      "authorship_tag": "ABX9TyPnGD6J/GgiA0y1CPl5LikV",
      "include_colab_link": true
    },
    "kernelspec": {
      "name": "python3",
      "display_name": "Python 3"
    },
    "language_info": {
      "name": "python"
    }
  },
  "cells": [
    {
      "cell_type": "markdown",
      "metadata": {
        "id": "view-in-github",
        "colab_type": "text"
      },
      "source": [
        "<a href=\"https://colab.research.google.com/github/manasa12102003/Calculator/blob/main/Calculator.ipynb\" target=\"_parent\"><img src=\"https://colab.research.google.com/assets/colab-badge.svg\" alt=\"Open In Colab\"/></a>"
      ]
    },
    {
      "cell_type": "markdown",
      "source": [
        "**TechnoHacks Internship Task-1**"
      ],
      "metadata": {
        "id": "d9Yvn0ywlrv4"
      }
    },
    {
      "cell_type": "markdown",
      "source": [
        "**Name : Kuraku Manasa**\n",
        "\n",
        "**Domain : Python Development**\n",
        "\n"
      ],
      "metadata": {
        "id": "rgXQcmkMnW-I"
      }
    },
    {
      "cell_type": "markdown",
      "source": [
        "**Project Name : Calculator**"
      ],
      "metadata": {
        "id": "XAOMTHNcmVHk"
      }
    },
    {
      "cell_type": "markdown",
      "source": [
        "Create a basic calculator that can perform\n",
        "basic arithmetic operations such as addition,\n",
        "subtraction, multiplication, and division.using\n",
        "functions."
      ],
      "metadata": {
        "id": "4HVdLC7nqBmg"
      }
    },
    {
      "cell_type": "code",
      "execution_count": null,
      "metadata": {
        "colab": {
          "base_uri": "https://localhost:8080/"
        },
        "id": "Yra-YRVPrunY",
        "outputId": "ca52651c-ad62-4585-bad5-01876f8d3f36"
      },
      "outputs": [
        {
          "output_type": "stream",
          "name": "stdout",
          "text": [
            "Select operation:\n",
            "1. Addition\n",
            "2. Subtraction\n",
            "3. Multiplication\n",
            "4. Division\n",
            "5. Exit\n",
            "\n",
            "\n",
            "Enter choice (1/2/3/4/5): 1\n",
            "Enter the first number: 3\n",
            "Enter the second number: 6\n",
            "Result: 9.0\n",
            "\n",
            "\n",
            "Enter choice (1/2/3/4/5): 2\n",
            "Enter the first number: 9\n",
            "Enter the second number: 6\n",
            "Result: 3.0\n",
            "\n",
            "\n",
            "Enter choice (1/2/3/4/5): 3\n",
            "Enter the first number: 12\n",
            "Enter the second number: 3\n",
            "Result: 36.0\n",
            "\n",
            "\n",
            "Enter choice (1/2/3/4/5): 4\n",
            "Enter the first number: 120\n",
            "Enter the second number: 5\n",
            "Result: 24.0\n",
            "\n",
            "\n",
            "Enter choice (1/2/3/4/5): 5\n",
            "Exiting the calculator.\n"
          ]
        }
      ],
      "source": [
        "def add(x, y):\n",
        "    return x + y\n",
        "\n",
        "def subtract(x, y):\n",
        "    return x - y\n",
        "\n",
        "def multiply(x, y):\n",
        "    return x * y\n",
        "\n",
        "def divide(x, y):\n",
        "    if y != 0:\n",
        "        return x / y\n",
        "    else:\n",
        "        return \"Error: Cannot divide by zero.\"\n",
        "\n",
        "def calculator():\n",
        "    print(\"Select operation:\")\n",
        "    print(\"1. Addition\")\n",
        "    print(\"2. Subtraction\")\n",
        "    print(\"3. Multiplication\")\n",
        "    print(\"4. Division\")\n",
        "    print(\"5. Exit\")\n",
        "\n",
        "    while True:\n",
        "        choice = input(\"\\n\\nEnter choice (1/2/3/4/5): \")\n",
        "\n",
        "        if choice == '5':\n",
        "            print(\"Exiting the calculator.\")\n",
        "            break\n",
        "\n",
        "        if choice not in ('1', '2', '3', '4'):\n",
        "            print(\"Invalid input. Please try again.\")\n",
        "            continue\n",
        "\n",
        "        num1 = float(input(\"Enter the first number: \"))\n",
        "        num2 = float(input(\"Enter the second number: \"))\n",
        "\n",
        "        if choice == '1':\n",
        "            print(\"Result:\", add(num1, num2))\n",
        "        elif choice == '2':\n",
        "            print(\"Result:\", subtract(num1, num2))\n",
        "        elif choice == '3':\n",
        "            print(\"Result:\", multiply(num1, num2))\n",
        "        elif choice == '4':\n",
        "            print(\"Result:\", divide(num1, num2))\n",
        "\n",
        "calculator()\n"
      ]
    }
  ]
}